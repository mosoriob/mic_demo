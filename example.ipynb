{
 "cells": [
  {
   "cell_type": "code",
   "execution_count": 2,
   "metadata": {},
   "outputs": [],
   "source": [
    "#import numpy as np\n",
    "from ipython2cwl.iotypes import *"
   ]
  },
  {
   "cell_type": "code",
   "execution_count": 7,
   "metadata": {},
   "outputs": [],
   "source": [
    "case: CWLIntInput = 2 # case number # 1-3 # 1:homogeneous aquifer, 2:midly heterogeneous aquifer, 3:highly heterogeneous aquifer\n",
    "hydr: CWLStringInput = 2 # hydraulic gradient [-] # range 0-2 (float)\n",
    "example_file: CWLFilePathInput = 'example.txt'\n",
    "output_file: CWLFilePathOutput = 'return.txt'"
   ]
  },
  {
   "cell_type": "code",
   "execution_count": 8,
   "metadata": {},
   "outputs": [],
   "source": [
    "with open(example_file, 'r') as f:\n",
    "    number_lines = len(f.readlines())"
   ]
  },
  {
   "cell_type": "code",
   "execution_count": 13,
   "metadata": {},
   "outputs": [],
   "source": [
    "with open(output_file, 'w') as f:\n",
    "    f.write(f\"Number line: {number_lines}\\n\")\n",
    "    f.write(f\"Case: {case}\\n\")\n",
    "    f.write(f\"Hydr: {hydr}\\n\")"
   ]
  }
 ],
 "metadata": {
  "kernelspec": {
   "display_name": "Python 3",
   "language": "python",
   "name": "python3"
  },
  "language_info": {
   "codemirror_mode": {
    "name": "ipython",
    "version": 3
   },
   "file_extension": ".py",
   "mimetype": "text/x-python",
   "name": "python",
   "nbconvert_exporter": "python",
   "pygments_lexer": "ipython3",
   "version": "3.8.2"
  }
 },
 "nbformat": 4,
 "nbformat_minor": 4
}
